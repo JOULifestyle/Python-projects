{
 "cells": [
  {
   "cell_type": "markdown",
   "id": "154f9530-0479-4134-a999-575a9eb7a3c9",
   "metadata": {},
   "source": [
    "# Project: Customer Feedback Management System\n",
    "\n",
    "\n",
    "\"This notebook demonstrates the process of collecting, storing, and analyzing customer feedback data using Python, pandas, and CSV operations.\"\n"
   ]
  },
  {
   "cell_type": "markdown",
   "id": "d2f8a20c-4d3e-4ea7-b8bf-3df1564797a8",
   "metadata": {},
   "source": [
    "## Step 1: Set Up the Environment.\n",
    "    First, we need to import the necessary libraries."
   ]
  },
  {
   "cell_type": "code",
   "execution_count": null,
   "id": "384f0c34-28bc-4765-8c35-607185aa7d7c",
   "metadata": {},
   "outputs": [],
   "source": [
    "import pandas as pd\n",
    "import csv"
   ]
  },
  {
   "cell_type": "markdown",
   "id": "5c2a7a2f-c2e2-4d2e-ac57-f52ab08d1643",
   "metadata": {},
   "source": [
    "## Step 2: Collect Customer Feedback Data\n",
    "     we'll collect feedback from 5 customers. For each customer, we'll gather their name, rating, and feedback.\n",
    "\n",
    "     - Use `input()` to get user input for each piece of data.\n",
    "     - Convert the rating to an integer using `int()`.\n",
    "     - Repeat this process for all 5 customers.\n",
    "     "
   ]
  },
  {
   "cell_type": "code",
   "execution_count": null,
   "id": "89c653e9-f6e1-4366-86a1-1a6c57caca15",
   "metadata": {},
   "outputs": [],
   "source": [
    "#data for first customer\n",
    "customer_name1=input(\"first customer's name\")\n",
    "customer_rating1=int(input('first customer rating(1-5)'))\n",
    "customer_feedback1=input('first customer feedback')\n",
    "#data for second customer\n",
    "customer_name2=input(\"second customer's name\")\n",
    "customer_rating2=int(input('second customer rating(1-5)'))\n",
    "customer_feedback2=input('second customer feedback')\n",
    "#data for third customer\n",
    "customer_name3=input(\"third customer's name\")\n",
    "customer_rating3=int(input('third customer rating(1-5)'))\n",
    "customer_feedback3=input('third customer feedback')\n",
    "#data for fourth customer\n",
    "customer_name4=input(\"fourth customer's name\")\n",
    "customer_rating4=int(input('fourth customer rating(1-5)'))\n",
    "customer_feedback4=input('fourth customer feedback')\n",
    "#data for fifth customer\n",
    "customer_name5=input(\"fifth customer's name\")\n",
    "customer_rating5=int(input('fifthcustomer rating(1-5)'))\n",
    "customer_feedback5=input('fifthcustomer feedback')"
   ]
  },
  {
   "cell_type": "markdown",
   "id": "8ffa0cd7-1d09-490a-8141-4537f046c053",
   "metadata": {},
   "source": [
    "## Step 3: Store Data in a CSV File.\n",
    "\n",
    "    Now that we are going to collect the data, and store it in a CSV file for easy access and analysis.\n",
    "\n",
    "    - Use csv module\n",
    "    - Open a new file named 'customer_feedback.csv' in write mode.\n",
    "    - Use `csv.writer()` to create a writer object.\n",
    "    - Write the header row first, then data for each customer.\n",
    "    - The `with` statement ensures the file is properly closed after writing.\n",
    "   \n",
    "    \n",
    "    "
   ]
  },
  {
   "cell_type": "code",
   "execution_count": null,
   "id": "5ed1af47-e500-407b-84fd-360cd2d4a39b",
   "metadata": {},
   "outputs": [],
   "source": [
    "#open a new file named \"customer_feedback.csv\" in write mode\n",
    "with open('customer_feedback.csv', 'w', newline='') as file:\n",
    "    # instantiate writer object\n",
    "    writer=csv.writer(file)\n",
    "    #write header row first\n",
    "    writer.writerow(['Name', 'Rating', 'feedback'])\n",
    "    #data for eah customer\n",
    "    writer.writerow([customer_name1, customer_rating1, customer_feedback1])\n",
    "    writer.writerow([customer_name2, customer_rating2, customer_feedback2])\n",
    "    writer.writerow([customer_name3, customer_rating3, customer_feedback3])\n",
    "    writer.writerow([customer_name4, customer_rating4, customer_feedback4])\n",
    "    writer.writerow([customer_name5, customer_rating5, customer_feedback5])"
   ]
  },
  {
   "cell_type": "markdown",
   "id": "6b1569dc-9b19-4ad4-8cab-171c828c87e7",
   "metadata": {},
   "source": [
    " ## Step 4: Read and Display Data using pandas\n",
    "    \n",
    "    Let's read the CSV file we just created and display its contents using pandas.\n",
    "  \n",
    "    - Use `pd.read_csv()` to read the CSV file into a pandas DataFrame.\n",
    "    - Display the DataFrame to see all the collected customer feedback data in a tabular format."
   ]
  },
  {
   "cell_type": "code",
   "execution_count": null,
   "id": "c5a37d35-c928-48ba-b3a4-f458204e0471",
   "metadata": {},
   "outputs": [],
   "source": [
    "#import csv file we created above\n",
    "df=pd.read_csv('customer_feedback.csv')\n",
    "#use info() to display details of the dataframe\n",
    "print(df.info)\n",
    "# display first five row by using head()\n",
    "df.head()\n"
   ]
  },
  {
   "cell_type": "markdown",
   "id": "38cc7896-9c31-439f-8621-f6a5398160a8",
   "metadata": {},
   "source": [
    "## Step 5: Data Analysis\n",
    "    Now that we have our data in a DataFrame, we can perform various analyses.\n",
    "   \n",
    "    - Use the `mean()` function on the 'Rating' column to calculate the average rating.\n",
    "    - Or the 'sum() and len()' and use division operator\n",
    "    - Format the result to display with two decimal places.\n",
    "    "
   ]
  },
  {
   "cell_type": "code",
   "execution_count": null,
   "id": "d9eb6c95-d6e9-4b8b-90ce-78fa906fe30e",
   "metadata": {},
   "outputs": [],
   "source": [
    "# average=sum of numbers/count items\n",
    "total_number_of_rating=df['Rating'].sum()\n",
    "print(f'sum of rating is {total_number_of_rating}')\n",
    "\n",
    "#the number of items \n",
    "num_items=len(df['Rating'])\n",
    "print(f'the number of items are {num_items}')\n",
    "\n",
    "# average of rating\n",
    "average=total_number_of_rating/num_items\n",
    "print(f'Average of rating is {average}')"
   ]
  },
  {
   "cell_type": "code",
   "execution_count": null,
   "id": "296b4e99-5dd2-401c-ac03-8a300f09cda7",
   "metadata": {},
   "outputs": [],
   "source": [
    "#this is the second way\n",
    "df['Rating'].mean()"
   ]
  },
  {
   "cell_type": "markdown",
   "id": "2a5d43c7-499a-424f-a1b6-a3979deeff3e",
   "metadata": {},
   "source": [
    " ### Categorize Feedback\n",
    " \n",
    "     Use conditional statements to determine the feedback category based on rating and keywords.\n"
   ]
  },
  {
   "cell_type": "code",
   "execution_count": null,
   "id": "dc6ba54a-8835-4e9e-87ef-2d3865a03aed",
   "metadata": {},
   "outputs": [],
   "source": [
    "#customer 1\n",
    "if customer_rating1 >=4 and 'excellent' in customer_feedback1.lower():\n",
    "    feedback_category= 'Very positive'\n",
    "elif customer_rating1>=4:\n",
    "    feedback_category='positive'\n",
    "elif customer_rating1==3:\n",
    "    feedback_category= 'Neutral'\n",
    "elif customer_rating1<3:\n",
    "    feedback_category='negative'\n",
    "print(f'category feeedback for customer1: {feedback_category}')\n",
    "#customer 2\n",
    "if customer_rating2 >=4 and 'excellent' in customer_feedback2.lower():\n",
    "    feedback_category= 'Very positive'\n",
    "elif customer_rating2>=4:\n",
    "    feedback_category='positive'\n",
    "elif customer_rating2==3:\n",
    "    feedback_category= 'Neutral'\n",
    "elif customer_rating2<3:\n",
    "    feedback_category='negative'\n",
    "print(f'category feeedback for customer2: {feedback_category}')\n",
    "#customer3\n",
    "if customer_rating3 >=4 and 'excellent' in customer_feedback3.lower():\n",
    "    feedback_category= 'Very positive'\n",
    "elif customer_rating3>=4:\n",
    "    feedback_category='positive'\n",
    "elif customer_rating3==3:\n",
    "    feedback_category= 'Neutral'\n",
    "elif customer_rating3<3:\n",
    "    feedback_category='negative'\n",
    "print(f'category_feeedback for customer3: {feedback_category}')\n",
    "#customer 4\n",
    "if customer_rating4 >=4 and 'excellent' in customer_feedback4.lower():\n",
    "    feedback_category= 'Very positive'\n",
    "elif customer_rating4>=4:\n",
    "    feedback_category='positive'\n",
    "elif customer_rating4==3:\n",
    "    feedback_category= 'Neutral'\n",
    "elif customer_rating4<3:\n",
    "    feedback_category='negative'\n",
    "print(f'category_feeedback for customer4: {feedback_category}')\n",
    "#customer 5\n",
    "if customer_rating5 >=4 and 'excellent' in customer_feedback5.lower():\n",
    "    \n",
    "    feedback_category= 'Very positive'\n",
    "elif customer_rating5>=4:\n",
    "    feedback_category='positive'\n",
    "elif customer_rating5==3:\n",
    "    feedback_category= 'Neutral'\n",
    "elif customer_rating5<3:\n",
    "    feedback_category='negative'\n",
    "print(f'category_feeedback for customer5: {feedback_category}')"
   ]
  },
  {
   "cell_type": "markdown",
   "id": "a8db7029-991a-4131-8e15-0c570f6676d4",
   "metadata": {},
   "source": [
    "### Step 5: Analyzing Feedback Comments\n",
    "        Use lower(), split() and count() "
   ]
  },
  {
   "cell_type": "code",
   "execution_count": null,
   "id": "959cd7e5-e814-438f-bd84-3cc9b3bae2e5",
   "metadata": {},
   "outputs": [],
   "source": [
    "#use lower() to convert all customer in put feedback to lower case the split words in sentence \n",
    "#delineator will be space between words in sentence\n",
    "\n",
    "# first customer\n",
    "feedback_word1= customer_feedback1.lower().split()\n",
    "\n",
    "#second customer\n",
    "feedback_word2= customer_feedback2.lower().split()\n",
    "\n",
    "#third customer\n",
    "feedback_word3= customer_feedback3.lower().split()\n",
    "\n",
    "#fourth customer\n",
    "feedback_word4= customer_feedback4.lower().split()\n",
    "\n",
    "#fifth customer\n",
    "feedback_word5= customer_feedback5.lower().split()\n",
    "\n",
    "\n",
    "print(f'feedback_word1= {feedback_word1}')\n",
    "print(f'feedback_word2= {feedback_word2}')\n",
    "print(f'feedback_word3= {feedback_word3}')\n",
    "print(f'feedback_word4= {feedback_word4}')\n",
    "print(f'feedback_word5= {feedback_word5}')"
   ]
  },
  {
   "cell_type": "code",
   "execution_count": null,
   "id": "cacbb9d5-8993-4565-a74e-34e207c329c3",
   "metadata": {},
   "outputs": [],
   "source": [
    "#counting occurrence of word 'sevice'\n",
    "word_to_count='service'\n",
    "word_count1=feedback_word1.count(word_to_count)\n",
    "word_count2=feedback_word2.count(word_to_count)\n",
    "word_count3=feedback_word3.count(word_to_count)\n",
    "word_count4=feedback_word4.count(word_to_count)\n",
    "word_count5=feedback_word5.count(word_to_count)\n",
    "#print eah count\n",
    "print(f\"count of '{word_to_count}' in first feedback:\", word_count1)\n",
    "print(f\"count of '{word_to_count}' in first feedback:\", word_count2)\n",
    "print(f\"count of '{word_to_count}' in first feedback:\", word_count3)\n",
    "print(f\"count of '{word_to_count}' in first feedback:\", word_count4)\n",
    "print(f\"count of '{word_to_count}' in first feedback:\", word_count5)"
   ]
  }
 ],
 "metadata": {
  "kernelspec": {
   "display_name": "Python 3 (ipykernel)",
   "language": "python",
   "name": "python3"
  },
  "language_info": {
   "codemirror_mode": {
    "name": "ipython",
    "version": 3
   },
   "file_extension": ".py",
   "mimetype": "text/x-python",
   "name": "python",
   "nbconvert_exporter": "python",
   "pygments_lexer": "ipython3",
   "version": "3.13.2"
  }
 },
 "nbformat": 4,
 "nbformat_minor": 5
}
